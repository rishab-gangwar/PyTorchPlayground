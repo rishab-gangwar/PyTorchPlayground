{
  "cells": [
    {
      "cell_type": "markdown",
      "metadata": {
        "id": "view-in-github",
        "colab_type": "text"
      },
      "source": [
        "<a href=\"https://colab.research.google.com/github/rishab-gangwar/PyTorchPlayground/blob/main/PyTorchRevision.ipynb\" target=\"_parent\"><img src=\"https://colab.research.google.com/assets/colab-badge.svg\" alt=\"Open In Colab\"/></a>"
      ]
    },
    {
      "cell_type": "markdown",
      "metadata": {
        "id": "AduRB8lA9wJP"
      },
      "source": [
        "#importing relevant libarary"
      ]
    },
    {
      "cell_type": "code",
      "execution_count": null,
      "metadata": {
        "id": "Qb9fKQZhQUw_"
      },
      "outputs": [],
      "source": [
        "# !wget https://cs.stanford.edu/people/rak248/VG_100K_2/images.zip\n"
      ]
    },
    {
      "cell_type": "code",
      "execution_count": null,
      "metadata": {
        "id": "fSwL9g6WfAg6"
      },
      "outputs": [],
      "source": [
        "# !wget https://cs.stanford.edu/people/rak248/VG_100K_2/images2.zip"
      ]
    },
    {
      "cell_type": "code",
      "execution_count": null,
      "metadata": {
        "id": "bUFiX4iF91t5"
      },
      "outputs": [],
      "source": [
        "import torch\n",
        "import numpy as np \n",
        "\n",
        "import matplotlib.pyplot as plt"
      ]
    },
    {
      "cell_type": "code",
      "execution_count": null,
      "metadata": {
        "id": "l8LyllqInfAO"
      },
      "outputs": [],
      "source": [
        "!pip install torchviz\n",
        "import torchviz\n",
        "from torchviz import make_dot"
      ]
    },
    {
      "cell_type": "markdown",
      "metadata": {
        "id": "g_CunkbB9Y8d"
      },
      "source": [
        "#Initialization"
      ]
    },
    {
      "cell_type": "code",
      "execution_count": null,
      "metadata": {
        "id": "1D1Itjzv9Tno"
      },
      "outputs": [],
      "source": [
        "\n",
        "x=torch.ones(3,2)\n",
        "print(x)\n",
        "x=torch.zeros(3,2)\n",
        "print(x)\n",
        "x=torch.rand(3,2)\n",
        "print(x)"
      ]
    },
    {
      "cell_type": "code",
      "execution_count": null,
      "metadata": {
        "id": "njj5aYeY9jxf"
      },
      "outputs": [],
      "source": [
        "x=torch.empty(3,2)\n",
        "print(x)\n",
        "y=torch.zeros_like(x)\n",
        "print(y)"
      ]
    },
    {
      "cell_type": "code",
      "execution_count": null,
      "metadata": {
        "id": "bgnDyfNB-RyF"
      },
      "outputs": [],
      "source": [
        "x= torch.linspace(0,1,steps=14)\n",
        "print(x)"
      ]
    },
    {
      "cell_type": "code",
      "execution_count": null,
      "metadata": {
        "id": "DGp1EEOEEimY"
      },
      "outputs": [],
      "source": [
        "x=torch.tensor([[1,2],\n",
        "                [3,4],\n",
        "                [5,6]])\n",
        "print(x)"
      ]
    },
    {
      "cell_type": "markdown",
      "metadata": {
        "id": "tjlaFnmqEy66"
      },
      "source": [
        "#slicing"
      ]
    },
    {
      "cell_type": "code",
      "execution_count": null,
      "metadata": {
        "id": "GhR2QFtpEt-U"
      },
      "outputs": [],
      "source": [
        "print(x.size())\n",
        "print(x)\n",
        "print(x[0,:])\n",
        "print(x[:,1])"
      ]
    },
    {
      "cell_type": "code",
      "execution_count": null,
      "metadata": {
        "id": "yQgM4SxxE9S5"
      },
      "outputs": [],
      "source": [
        "y=x[1,1]\n",
        "print(y)\n",
        "print(y.item(),type(y.item()))"
      ]
    },
    {
      "cell_type": "markdown",
      "metadata": {
        "id": "qDJzZBPzFkK4"
      },
      "source": [
        "#reshaping"
      ]
    },
    {
      "cell_type": "code",
      "execution_count": null,
      "metadata": {
        "id": "bTzNDcwtFWbQ"
      },
      "outputs": [],
      "source": [
        "y=x.view(6,-1)\n",
        "z=x.view(-1,6)\n",
        "print(x,y,z)"
      ]
    },
    {
      "cell_type": "markdown",
      "metadata": {
        "id": "y_BsANhPF_M_"
      },
      "source": [
        "#simple tensor operations"
      ]
    },
    {
      "cell_type": "code",
      "execution_count": null,
      "metadata": {
        "id": "2b801cfNFyM2"
      },
      "outputs": [],
      "source": [
        "x= torch.ones(3,2)\n",
        "y= torch.ones(3,2)\n",
        "x=x*3\n",
        "y*=2\n",
        "z=y.add_(x)\n",
        "\n",
        "print(x,y,z)"
      ]
    },
    {
      "cell_type": "code",
      "execution_count": null,
      "metadata": {
        "id": "eJ5jWNwZGVA-"
      },
      "outputs": [],
      "source": [
        "x= torch.ones(3,2)\n",
        "y= torch.ones(3,2)\n",
        "x=x*3\n",
        "y*=2\n",
        "q=y.add(x)\n",
        "print(x,y,q)"
      ]
    },
    {
      "cell_type": "markdown",
      "metadata": {
        "id": "qyjDvtCIG-yp"
      },
      "source": [
        "#Numpy<-->pytorch"
      ]
    },
    {
      "cell_type": "code",
      "execution_count": null,
      "metadata": {
        "id": "AKHQ6JW_GyE5"
      },
      "outputs": [],
      "source": [
        "x_np=x.numpy()\n",
        "print(x,x_np,type(x),type(x_np))"
      ]
    },
    {
      "cell_type": "code",
      "execution_count": null,
      "metadata": {
        "id": "mNdeUvYfHZ-8"
      },
      "outputs": [],
      "source": [
        "a=np.random.randn(5)\n",
        "print(a)\n",
        "a_pt=torch.from_numpy(a)\n",
        "print(type(a),type(a_pt))"
      ]
    },
    {
      "cell_type": "code",
      "execution_count": null,
      "metadata": {
        "id": "QOCQtuk6H8BA"
      },
      "outputs": [],
      "source": [
        "#flaw\n",
        "np.add(a,1,out=a)\n",
        "print(a,a_pt)"
      ]
    },
    {
      "cell_type": "code",
      "execution_count": null,
      "metadata": {
        "id": "9taOwrnHIMcJ"
      },
      "outputs": [],
      "source": [
        "np.add(a,1,out=a)\n",
        "print(a)"
      ]
    },
    {
      "cell_type": "markdown",
      "metadata": {
        "id": "P3iZ8jZDaUpZ"
      },
      "source": [
        "#CUDA support"
      ]
    },
    {
      "cell_type": "code",
      "execution_count": null,
      "metadata": {
        "id": "TwY9cucdaYbd"
      },
      "outputs": [],
      "source": [
        "print(torch.cuda.device_count())"
      ]
    },
    {
      "cell_type": "code",
      "execution_count": null,
      "metadata": {
        "id": "baiLrzVpacZd"
      },
      "outputs": [],
      "source": [
        "# print(torch.cuda.device(0))\n",
        "# print(torch.cuda.get_device_name(0))"
      ]
    },
    {
      "cell_type": "code",
      "execution_count": null,
      "metadata": {
        "id": "usXD8A52a6H1"
      },
      "outputs": [],
      "source": [
        "# cuda0=torch.device('cuda:0')"
      ]
    },
    {
      "cell_type": "code",
      "execution_count": null,
      "metadata": {
        "id": "wJHXk1_cbYFC"
      },
      "outputs": [],
      "source": [
        "# a=torch.ones(3,2,device=cuda0)\n",
        "# b=torch.ones(3,2,device=cuda0)\n",
        "# c=a+b"
      ]
    },
    {
      "cell_type": "code",
      "execution_count": null,
      "metadata": {
        "id": "kLoHdYnYbi6-"
      },
      "outputs": [],
      "source": [
        "# print(c)"
      ]
    },
    {
      "cell_type": "code",
      "execution_count": null,
      "metadata": {
        "id": "o68ZL7gKbjsy"
      },
      "outputs": [],
      "source": [
        "# print(a)"
      ]
    },
    {
      "cell_type": "code",
      "execution_count": null,
      "metadata": {
        "id": "kiOrCOTIbmVf"
      },
      "outputs": [],
      "source": [
        "# %%time\n",
        "# for i in range(10):\n",
        "#   a_cpu = torch.randn([10000, 10000])\n",
        "#   b_cpu = torch.randn([10000, 10000])\n",
        "#   b_cpu.add_(a_cpu)"
      ]
    },
    {
      "cell_type": "code",
      "execution_count": null,
      "metadata": {
        "id": "fKmGXb7HcBYv"
      },
      "outputs": [],
      "source": [
        "# %%time\n",
        "# for i in range(10):\n",
        "#   a = torch.randn([10000, 10000],device=cuda0)\n",
        "#   b = torch.randn([10000, 10000],device=cuda0)\n",
        "#   b.add_(a)"
      ]
    },
    {
      "cell_type": "code",
      "execution_count": null,
      "metadata": {
        "id": "YuepIbc0dBdr"
      },
      "outputs": [],
      "source": [
        "# %%time\n",
        "# for i in range(5):\n",
        "#   a_cpu = torch.randn([10000, 10000])\n",
        "#   b_cpu = torch.randn([10000, 10000])\n",
        "#   torch.matmul(a_cpu,b_cpu)"
      ]
    },
    {
      "cell_type": "code",
      "execution_count": null,
      "metadata": {
        "id": "nSshfUqDdBdy"
      },
      "outputs": [],
      "source": [
        "# %%time\n",
        "# # for i in range(100):\n",
        "#   a = torch.randn([10000, 10000],device=cuda0)\n",
        "#   b = torch.randn([10000, 10000],device=cuda0)\n",
        "#   torch.matmul(a,b)"
      ]
    },
    {
      "cell_type": "code",
      "execution_count": null,
      "metadata": {
        "id": "cBlcNYHLcOQ6"
      },
      "outputs": [],
      "source": [
        ""
      ]
    },
    {
      "cell_type": "markdown",
      "metadata": {
        "id": "AOrWmk6vdxWU"
      },
      "source": [
        "#autograd in pytorch"
      ]
    },
    {
      "cell_type": "code",
      "execution_count": null,
      "metadata": {
        "id": "x0n9T14Qd3Gd"
      },
      "outputs": [],
      "source": [
        "x = torch.ones([3,2], requires_grad=True)\n",
        "print(x)"
      ]
    },
    {
      "cell_type": "code",
      "execution_count": null,
      "metadata": {
        "id": "C5r7omSkeA7i"
      },
      "outputs": [],
      "source": [
        "y= x + 5  \n",
        "print(y)"
      ]
    },
    {
      "cell_type": "code",
      "execution_count": null,
      "metadata": {
        "id": "7OmTuVEAeEjw"
      },
      "outputs": [],
      "source": [
        "z = y*y+1\n",
        "print(z)"
      ]
    },
    {
      "cell_type": "code",
      "execution_count": null,
      "metadata": {
        "id": "6u2S7P3LeIbM"
      },
      "outputs": [],
      "source": [
        "t = torch.sum(z)\n",
        "print(t)"
      ]
    },
    {
      "cell_type": "code",
      "execution_count": null,
      "metadata": {
        "id": "JAcuQdRGekAv"
      },
      "outputs": [],
      "source": [
        "t.backward()"
      ]
    },
    {
      "cell_type": "code",
      "execution_count": null,
      "metadata": {
        "id": "9gxy10vbe-Wl"
      },
      "outputs": [],
      "source": [
        "print(x.grad)"
      ]
    },
    {
      "cell_type": "code",
      "execution_count": null,
      "metadata": {
        "id": "7mHF6vZkfAAb"
      },
      "outputs": [],
      "source": [
        "x = torch.ones([3,2],requires_grad=True)\n",
        "y = x + 5\n",
        "r = 1/(1+torch.exp(-y))\n",
        "print(r)\n",
        "s = torch.sum(r)\n",
        "s.backward()\n",
        "print(x.grad)"
      ]
    },
    {
      "cell_type": "code",
      "execution_count": null,
      "metadata": {
        "id": "Iht8X09Egdo6"
      },
      "outputs": [],
      "source": [
        ""
      ]
    },
    {
      "cell_type": "code",
      "execution_count": null,
      "metadata": {
        "id": "cWPsTjpHhUFE"
      },
      "outputs": [],
      "source": [
        "x = torch.ones([3,2],requires_grad=True)\n",
        "y = x + 5\n",
        "r = 1/(1+torch.exp(-y))\n",
        "print(r)\n",
        "s = torch.sum(r)\n",
        "a=torch.ones([3,2])\n",
        "r.backward(a)\n",
        "print(x.grad)"
      ]
    },
    {
      "cell_type": "code",
      "execution_count": null,
      "metadata": {
        "id": "DyvCrIEDSFGA"
      },
      "outputs": [],
      "source": [
        ""
      ]
    },
    {
      "cell_type": "markdown",
      "metadata": {
        "id": "LL_4gwUuSFjM"
      },
      "source": [
        "#learning loop in PyTorch"
      ]
    },
    {
      "cell_type": "code",
      "execution_count": null,
      "metadata": {
        "id": "aoOudfkrg38V"
      },
      "outputs": [],
      "source": [
        " x=torch.randn([20,1],requires_grad=True)\n",
        " y=3*x-2"
      ]
    },
    {
      "cell_type": "code",
      "execution_count": null,
      "metadata": {
        "id": "QM-r3yqLSXcO"
      },
      "outputs": [],
      "source": [
        "w=torch.tensor([1.],requires_grad=True)\n",
        "b=torch.tensor([1.],requires_grad=True)\n",
        "y_hat = w*x+b\n",
        "loss=torch.sum((y_hat-y)**2)"
      ]
    },
    {
      "cell_type": "code",
      "execution_count": null,
      "metadata": {
        "id": "rmIPYrCjSwch"
      },
      "outputs": [],
      "source": [
        "print(loss)"
      ]
    },
    {
      "cell_type": "code",
      "execution_count": null,
      "metadata": {
        "id": "RwimABTVSxar"
      },
      "outputs": [],
      "source": [
        "loss.backward()"
      ]
    },
    {
      "cell_type": "code",
      "execution_count": null,
      "metadata": {
        "id": "o-8f7jeBS_-n"
      },
      "outputs": [],
      "source": [
        "print(w.grad,b.grad)"
      ]
    },
    {
      "cell_type": "code",
      "execution_count": null,
      "metadata": {
        "id": "DtpyqTV_TCTq"
      },
      "outputs": [],
      "source": [
        "epochs=108\n",
        "lr=.01\n",
        "w=torch.tensor([1.],requires_grad=True)\n",
        "b=torch.tensor([1.],requires_grad=True)\n",
        "for i in range(epochs):\n",
        "  x=torch.randn([20,1])\n",
        "  y=3*x-2\n",
        "  y_hat=w*x+b\n",
        "  loss=torch.sum((y_hat-y)**2)\n",
        "  loss.backward()\n",
        "  with torch.no_grad():\n",
        "    w-=w.grad*lr\n",
        "    b-=b.grad*lr\n",
        "    w.grad.zero_()\n",
        "    b.grad.zero_()\n",
        "    print(w,b,\"\")"
      ]
    },
    {
      "cell_type": "markdown",
      "metadata": {
        "id": "3GOhbi2GQX-c"
      },
      "source": [
        "#Feed forward neural net"
      ]
    },
    {
      "cell_type": "code",
      "execution_count": null,
      "metadata": {
        "id": "kyfGcRVnTk2x"
      },
      "outputs": [],
      "source": [
        "import pandas as pd\n",
        "from sklearn.model_selection import train_test_split\n",
        "from sklearn.metrics import accuracy_score, mean_squared_error, log_loss\n",
        "from tqdm import tqdm_notebook\n",
        "import seaborn as sns\n",
        "from sklearn.preprocessing import OneHotEncoder\n",
        "from sklearn.datasets import make_blobs\n",
        "import matplotlib"
      ]
    },
    {
      "cell_type": "code",
      "execution_count": null,
      "metadata": {
        "id": "fJyZzKmuQpwF"
      },
      "outputs": [],
      "source": [
        "torch.manual_seed(0)"
      ]
    },
    {
      "cell_type": "code",
      "execution_count": null,
      "metadata": {
        "id": "fK2HlBO0RW5E"
      },
      "outputs": [],
      "source": [
        "my_cmap = matplotlib.colors.LinearSegmentedColormap.from_list(\"\",[\"red\",\"yellow\",\"green\"])"
      ]
    },
    {
      "cell_type": "code",
      "execution_count": null,
      "metadata": {
        "id": "gor5XIOqRmQN"
      },
      "outputs": [],
      "source": [
        "from numpy.random.mtrand import RandomState\n",
        "data, labels =make_blobs(n_samples=1000, n_features=2,centers=4,random_state=0)"
      ]
    },
    {
      "cell_type": "code",
      "execution_count": null,
      "metadata": {
        "id": "RZCICXwVTU-D"
      },
      "outputs": [],
      "source": [
        "plt.scatter(data[:,0],data[:,1],c=labels,cmap=my_cmap)"
      ]
    },
    {
      "cell_type": "code",
      "execution_count": null,
      "metadata": {
        "id": "zVag17_OTkSC"
      },
      "outputs": [],
      "source": [
        "X_train,X_val,Y_train,Y_val=train_test_split(data,labels,stratify=labels,random_state=0)\n",
        "print(X_train.shape,X_val.shape,Y_train.shape,Y_val.shape)"
      ]
    },
    {
      "cell_type": "code",
      "execution_count": null,
      "metadata": {
        "id": "CSGHqGzTT7b1"
      },
      "outputs": [],
      "source": [
        "X_train,X_val,Y_train,Y_val=map(torch.tensor,(X_train,X_val,Y_train,Y_val))"
      ]
    },
    {
      "cell_type": "code",
      "execution_count": null,
      "metadata": {
        "id": "sgviM3U-UPjz"
      },
      "outputs": [],
      "source": [
        "print(X_train.shape,X_val.shape,Y_train.shape,Y_val.shape)"
      ]
    },
    {
      "cell_type": "code",
      "execution_count": null,
      "metadata": {
        "id": "8zJ-YXqWUSz2"
      },
      "outputs": [],
      "source": [
        "def model(x):\n",
        "  a1=torch.matmul(x,weights1)+bias1\n",
        "  h1=a1.sigmoid()\n",
        "  # print(h1.shape)\n",
        "  a2=torch.matmul(h1,weights2)+bias2\n",
        "  h2=a2.exp()/a2.exp().sum(-1).unsqueeze(-1)\n",
        "  return h2"
      ]
    },
    {
      "cell_type": "code",
      "execution_count": null,
      "metadata": {
        "id": "_yWYL9XBUzv-"
      },
      "outputs": [],
      "source": [
        "def loss_fn(y_,y):\n",
        "  return -(y_[range(y.shape[0]),y].log()).mean()"
      ]
    },
    {
      "cell_type": "code",
      "execution_count": null,
      "metadata": {
        "id": "aYRvf2mUVG1M"
      },
      "outputs": [],
      "source": [
        "def accuracy(y_,y):\n",
        "  ypred=torch.argmax(y_,dim=1)\n",
        "  return (ypred==y).float().mean()"
      ]
    },
    {
      "cell_type": "code",
      "execution_count": null,
      "metadata": {
        "id": "j4LpUD3lXeZk"
      },
      "outputs": [],
      "source": [
        "import math\n",
        "torch.manual_seed(0)\n",
        "weights1=torch.randn(2,2)/math.sqrt(2)\n",
        "weights1.requires_grad_()\n",
        "bias1=torch.zeros(2, requires_grad=True)\n",
        "\n",
        "weights2 = torch.randn(2,4)/math.sqrt(2)\n",
        "weights2.requires_grad_()\n",
        "\n",
        "bias2=torch.zeros(4, requires_grad=True)\n",
        "lr=.2\n",
        "epochs=10000\n",
        "\n",
        "\n",
        "X_train=X_train.float()\n",
        "Y_train = Y_train.long()\n",
        "\n",
        "loss_arr = []\n",
        "acc_arr = []\n",
        "for epoch in range(epochs):\n",
        "  y_=model(X_train)\n",
        "  loss = loss_fn(y_,Y_train)\n",
        "  loss.backward()\n",
        "  loss_arr.append(loss.item())\n",
        "  acc_arr.append(accuracy(y_,Y_train))\n",
        "  with torch.no_grad():\n",
        "    weights1-=lr*weights1.grad\n",
        "    weights2-=lr*weights2.grad\n",
        "\n",
        "    bias1-=lr*bias1.grad\n",
        "    bias2-=lr*bias2.grad\n",
        "    weights1.grad.zero_()\n",
        "    weights2.grad.zero_()\n",
        "    bias1.grad.zero_()\n",
        "    bias2.grad.zero_()\n",
        "plt.plot(loss_arr,'r-')\n",
        "plt.plot(acc_arr,'b-')"
      ]
    },
    {
      "cell_type": "code",
      "execution_count": null,
      "metadata": {
        "id": "C3PO3OzOaLMY"
      },
      "outputs": [],
      "source": [
        "acc_arr[9990]\n"
      ]
    },
    {
      "cell_type": "code",
      "execution_count": null,
      "metadata": {
        "id": "FJl1u7GAmZwq"
      },
      "outputs": [],
      "source": [
        "y=model(X_train)"
      ]
    },
    {
      "cell_type": "code",
      "execution_count": null,
      "metadata": {
        "id": "DgVKS5jdmnjq"
      },
      "outputs": [],
      "source": [
        ""
      ]
    },
    {
      "cell_type": "code",
      "execution_count": null,
      "metadata": {
        "id": "YB11Uxv6njt0"
      },
      "outputs": [],
      "source": [
        ""
      ]
    },
    {
      "cell_type": "code",
      "execution_count": null,
      "metadata": {
        "id": "oEweYst9nwpb"
      },
      "outputs": [],
      "source": [
        ""
      ]
    },
    {
      "cell_type": "markdown",
      "metadata": {
        "id": "_79rjmeVnxOO"
      },
      "source": [
        "#`-----------------------------------NN.parameters---------------------------`"
      ]
    },
    {
      "cell_type": "code",
      "execution_count": null,
      "metadata": {
        "id": "7EqT_mlln1yW"
      },
      "outputs": [],
      "source": [
        "import torch.nn as nn\n",
        "import torch.nn.functional as F"
      ]
    },
    {
      "cell_type": "code",
      "execution_count": null,
      "metadata": {
        "id": "o-1LbFalpRTi"
      },
      "outputs": [],
      "source": [
        "class FirstNetwork(nn.Module):\n",
        "  def __init__(self):\n",
        "    super().__init__()\n",
        "    torch.manual_seed(0)\n",
        "    self.weights1= nn.parameter(torch.randn(2,2))/math.sqrt(2)\n",
        "    self.weights2= nn.parameters(torch.randn(2,4))/math.sqrt(2)\n",
        "    self.bias1=nn.parameters(torch.randn(2))\n",
        "    self.bias2=nn.parameters(torch.randn(4))\n",
        "  def forward(self,X):\n",
        "    a1=torch.matmul(X,self.weights1)+self.bias1\n",
        "    h1=a1.sigmoid()\n",
        "    a2=torch.matmul(h1,self.weights2)+self.bias2\n",
        "    h2=a2.sigmoid()\n",
        "    return h2\n",
        "  \n",
        "\n"
      ]
    },
    {
      "cell_type": "code",
      "execution_count": null,
      "metadata": {
        "id": "MeZS1r32qon7"
      },
      "outputs": [],
      "source": [
        "def fit(epochs=10000,lr=.2):\n",
        "  loss_arr=[]\n",
        "  acc_arr=[]\n",
        "  for epoch in range(epochs):\n",
        "    y_hat=fn(X_train)\n",
        "    loss=F.cross_entropy(y_hat,Y_train)\n",
        "    loss_arr.append(loss)\n",
        "    acc_arr.append(accuracy(y_hat,Y_train))\n",
        "    loss.backward()\n",
        "    with torch.no_grad():\n",
        "      for param in parameters:\n",
        "        param-=lr*param.grad\n",
        "      fn.zero_grad()\n",
        "\n",
        "  plt.plot(loss_arr,'r-')\n",
        "  plt.plot(acc_arr,'b-')\n"
      ]
    },
    {
      "cell_type": "code",
      "execution_count": null,
      "metadata": {
        "id": "5DdgqVVIrmXa"
      },
      "outputs": [],
      "source": [
        "from torch.nn import functional as F\n",
        "class secondnetwork(nn.Module):\n",
        "  def __init__(self):\n",
        "    super().__init__()\n",
        "    self.l1=nn.Linear(2,2)\n",
        "    self.l2=nn.Linear(2,4)\n",
        "  def forward(self,x):\n",
        "    a1=self.l1(x)\n",
        "    h1=a1.sigmoid()\n",
        "    a2=self.l2(h1)\n",
        "    h2=a2.exp()/a2.exp().sum(-1).unsqueeze(-1)\n",
        "    return h2\n",
        "def accuracy(y_,y):\n",
        "  pred=torch.argmax(y_,dim=1)\n",
        "  return (pred==y).float().mean()\n",
        "\n",
        "\n",
        "def fit(epochs=10000,lr=.1):\n",
        "  err_arr=[]\n",
        "  acc_arr=[]\n",
        "  for epoch in range(epochs):\n",
        "    y_=feednet(X_train)\n",
        "    error=F.cross_entropy(y_,Y_train)\n",
        "    err_arr.append(error.item())\n",
        "    acc_arr.append(accuracy(y_,Y_train))\n",
        "    error.backward()\n",
        "    with torch.no_grad():\n",
        "      for param in feednet.parameters():\n",
        "        param-=lr*param.grad\n",
        "      feednet.zero_grad()\n",
        "  plt.plot(err_arr,'r-')\n",
        "  plt.plot(acc_arr,'b-')\n",
        "feednet=secondnetwork()\n",
        "fit()\n",
        "\n",
        "\n",
        "\n"
      ]
    },
    {
      "cell_type": "markdown",
      "metadata": {
        "id": "ZqIQElXfmrOB"
      },
      "source": [
        "#`*CNNs`![image.png](data:image/png;base64,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)"
      ]
    },
    {
      "cell_type": "code",
      "execution_count": null,
      "metadata": {
        "id": "6jX6DgIDekHd"
      },
      "outputs": [],
      "source": [
        "import torchvision\n",
        "import torchvision.transforms as transforms\n",
        "trainset= torchvision.datasets.CIFAR10(root=\"./data\",train=True,download=True,transform=transforms.ToTensor())"
      ]
    },
    {
      "cell_type": "code",
      "execution_count": null,
      "metadata": {
        "id": "gPVuC06Nni6H"
      },
      "outputs": [],
      "source": [
        "classes=['plane','car','bird','cat','deer','dog','frog','horse','ship','truck']"
      ]
    },
    {
      "cell_type": "code",
      "execution_count": null,
      "metadata": {
        "id": "zMNjNeEYog6H"
      },
      "outputs": [],
      "source": [
        "trainloader=torch.utils.data.DataLoader(trainset,batch_size=8,shuffle=True)\n",
        "dataloader=iter(trainloader)\n",
        "images,labels=dataloader.next()"
      ]
    },
    {
      "cell_type": "code",
      "source": [
        "imglist=[image for image in images]\n",
        "print(imglist[0].shape)"
      ],
      "metadata": {
        "id": "nghQIDSn0wNP"
      },
      "execution_count": null,
      "outputs": []
    },
    {
      "cell_type": "code",
      "execution_count": null,
      "metadata": {
        "id": "jRV2UUxYowCS"
      },
      "outputs": [],
      "source": [
        "class alayerCNN(nn.Module):\n",
        "  def __init__(self):\n",
        "    super(alayerCNN,self).__init__()\n",
        "    self.conv1=nn.Conv2d(3,16,3)\n",
        "  def forward(self,x):\n",
        "    x=self.conv1(x)\n",
        "    return x"
      ]
    },
    {
      "cell_type": "code",
      "source": [
        ""
      ],
      "metadata": {
        "id": "gB0452U81t9E"
      },
      "execution_count": null,
      "outputs": []
    },
    {
      "cell_type": "code",
      "source": [
        "cnn=alayerCNN()\n",
        "out=cnn(images)\n",
        "print(out.shape)"
      ],
      "metadata": {
        "id": "GCR9F3kYw3fb"
      },
      "execution_count": null,
      "outputs": []
    },
    {
      "cell_type": "code",
      "source": [
        "for param in cnn.parameters():\n",
        "  print(param.shape)"
      ],
      "metadata": {
        "id": "Efxr1te2xRYF"
      },
      "execution_count": null,
      "outputs": []
    },
    {
      "cell_type": "code",
      "source": [
        "from itertools import repeat\n",
        "out= list(map(np.transpose,[image for image in (image.detach().numpy() for image in images)],repeat((1,2,0))))"
      ],
      "metadata": {
        "id": "hagXASO_xr_m"
      },
      "execution_count": null,
      "outputs": []
    },
    {
      "cell_type": "code",
      "source": [
        "fig,ax=plt.subplots(4,2)\n",
        "for i,img in enumerate(out):\n",
        "\n",
        "  ax[i//2,i%2].imshow(img)"
      ],
      "metadata": {
        "id": "E8RfcRcGz9Ko"
      },
      "execution_count": null,
      "outputs": []
    },
    {
      "cell_type": "code",
      "source": [
        "def imgloader(images):\n",
        "  return list(map(np.transpose,[image for image in (image.detach().numpy() for image in images)],repeat((1,2,0))))"
      ],
      "metadata": {
        "id": "YJ2dN-q23gC9"
      },
      "execution_count": null,
      "outputs": []
    },
    {
      "cell_type": "code",
      "source": [
        "def imshow(img):\n",
        "  npimg = img.numpy()\n",
        "  plt.imshow(np.transpose(npimg,(1,2,0)))\n",
        "  plt.show()"
      ],
      "metadata": {
        "id": "ki5y-ybfNOxR"
      },
      "execution_count": null,
      "outputs": []
    },
    {
      "cell_type": "code",
      "source": [
        "imshow(torchvision.utils.make_grid(images))\n",
        "print(' ' ,'  '.join(classes[labels[j]] for j in range(8)))"
      ],
      "metadata": {
        "id": "EOi9mSKMNkmW"
      },
      "execution_count": null,
      "outputs": []
    },
    {
      "cell_type": "code",
      "source": [
        " "
      ],
      "metadata": {
        "id": "IRC_c-zjOUJo"
      },
      "execution_count": null,
      "outputs": []
    },
    {
      "cell_type": "code",
      "execution_count": null,
      "metadata": {
        "id": "GusnxBlRPFZC"
      },
      "outputs": [],
      "source": [
        "class AlayerCNN(nn.Module):\n",
        "  def __init__(self):\n",
        "    super(AlayerCNN,self).__init__()\n",
        "    self.conv1=nn.Conv2d(3,16,3)\n",
        "  def forward(self,x):\n",
        "    x=self.conv1(x)\n",
        "    return x"
      ]
    },
    {
      "cell_type": "code",
      "source": [
        "cnn=AlayerCNN()\n",
        "out=cnn(images)\n",
        "print(out.shape)"
      ],
      "metadata": {
        "id": "FLZqEzsFPFZL"
      },
      "execution_count": null,
      "outputs": []
    },
    {
      "cell_type": "code",
      "source": [
        "cnnw=[]\n",
        "for param in cnn.parameters():\n",
        "  cnnw.append(param)\n",
        "  break\n",
        "\n",
        "for i in out:\n",
        "  print(i.shape)"
      ],
      "metadata": {
        "id": "fmPwEk3SPJiI"
      },
      "execution_count": null,
      "outputs": []
    },
    {
      "cell_type": "markdown",
      "source": [
        "#visualization of weights and cnn outputs"
      ],
      "metadata": {
        "id": "eixPxK8PkYKr"
      }
    },
    {
      "cell_type": "code",
      "source": [
        "print(cnnw[0].shape)"
      ],
      "metadata": {
        "id": "lchn_nnePkav"
      },
      "execution_count": null,
      "outputs": []
    },
    {
      "cell_type": "code",
      "source": [
        ""
      ],
      "metadata": {
        "id": "x2fMyilaXnQA"
      },
      "execution_count": null,
      "outputs": []
    },
    {
      "cell_type": "code",
      "source": [
        "def imgloader(images):\n",
        "  return list(map(np.transpose,[image for image in (image.detach().numpy() for image in images)],repeat((1,2,0))))"
      ],
      "metadata": {
        "id": "WsY1QgCEXoRb"
      },
      "execution_count": null,
      "outputs": []
    },
    {
      "cell_type": "code",
      "source": [
        "def plot_cnn_weights(weights,out_filters,channels):\n",
        "  outlist=imgloader(weights)\n",
        "  plt.rcParams[\"figure.figsize\"] = (out_filters*5,out_filters*5)\n",
        "  fig,ax= plt.subplots(out_filters,channels)\n",
        "  for i,imspace in enumerate(outlist):\n",
        "    for j in range(channels):\n",
        "      print(i,end=\" \")\n",
        "      ax[i,j].imshow(imspace[:,:,j])\n",
        "    print()"
      ],
      "metadata": {
        "id": "Tc0A5ccOPwJK"
      },
      "execution_count": null,
      "outputs": []
    },
    {
      "cell_type": "code",
      "source": [
        "plot_cnn_weights(cnnw[0],16,3)"
      ],
      "metadata": {
        "id": "APIgJwD5P4Fo"
      },
      "execution_count": null,
      "outputs": []
    },
    {
      "cell_type": "code",
      "source": [
        "def plot_cnn_outputs(out,batchsize,channels):\n",
        "  outlist=imgloader(out)\n",
        "  if(batchsize>channels):\n",
        "    plt.rcParams[\"figure.figsize\"] = (4*batchsize,channels*4*(batchsize-channels))\n",
        "  else:\n",
        "    plt.rcParams[\"figure.figsize\"] = (batchsize*4*(channels-batchsize),4*channels)\n",
        "  fig,ax= plt.subplots(batchsize,channels)\n",
        "  for i,imspace in enumerate(outlist):\n",
        "    for j in range(channels):\n",
        "      print(i,end=\" \")\n",
        "      ax[i,j].imshow(imspace[:,:,j])\n",
        "    print()"
      ],
      "metadata": {
        "id": "dUr9lkoihsbm"
      },
      "execution_count": null,
      "outputs": []
    },
    {
      "cell_type": "code",
      "source": [
        "plot_cnn_outputs(out,8,16)"
      ],
      "metadata": {
        "id": "mb0j4e4Ci1b2"
      },
      "execution_count": null,
      "outputs": []
    },
    {
      "cell_type": "code",
      "source": [
        "plot_cnn_weights(out,8,16)"
      ],
      "metadata": {
        "id": "fwNxhdgMYI-m"
      },
      "execution_count": null,
      "outputs": []
    },
    {
      "cell_type": "code",
      "source": [
        ""
      ],
      "metadata": {
        "id": "xA7r-Pnrcade"
      },
      "execution_count": null,
      "outputs": []
    },
    {
      "cell_type": "code",
      "source": [
        ""
      ],
      "metadata": {
        "id": "Qx2jiJ87g3UX"
      },
      "execution_count": null,
      "outputs": []
    },
    {
      "cell_type": "markdown",
      "source": [
        "#deep convolutional network"
      ],
      "metadata": {
        "id": "l1S9iDspg3il"
      }
    },
    {
      "cell_type": "code",
      "source": [
        "class FirstCNN_v2(nn.Module):\n",
        "  def __init__(self):\n",
        "    super(FirstCNN_v2,self).__init__()\n",
        "    self.model=nn.Sequential(\n",
        "        nn.Conv2d(3,8,3),\n",
        "        nn.Conv2d(8,16,3)\n",
        "        )\n",
        "  def forward(self,x):\n",
        "    x=self.model(x)\n",
        "    return x"
      ],
      "metadata": {
        "id": "NU0vW9DAg7uW"
      },
      "execution_count": null,
      "outputs": []
    },
    {
      "cell_type": "code",
      "source": [
        "net = FirstCNN_v2()\n",
        "out=net(images)\n",
        "out.shape"
      ],
      "metadata": {
        "id": "ChMpw0gbhmDO"
      },
      "execution_count": null,
      "outputs": []
    },
    {
      "cell_type": "code",
      "source": [
        "plot_cnn_outputs(out,8,16)"
      ],
      "metadata": {
        "id": "ZOzoYDwvi9C6"
      },
      "execution_count": null,
      "outputs": []
    },
    {
      "cell_type": "code",
      "source": [
        "\n",
        "for i in net.parameters():\n",
        "  print(i.shape)"
      ],
      "metadata": {
        "id": "sUzGDXCzkyYe"
      },
      "execution_count": null,
      "outputs": []
    },
    {
      "cell_type": "code",
      "source": [
        "params=list(net.parameters())\n",
        "weights=params[2]"
      ],
      "metadata": {
        "id": "BD_4jgNEodm9"
      },
      "execution_count": null,
      "outputs": []
    },
    {
      "cell_type": "code",
      "source": [
        "plot_cnn_weights(weights,16,8)"
      ],
      "metadata": {
        "id": "Lufq-urqpzVt"
      },
      "execution_count": null,
      "outputs": []
    },
    {
      "cell_type": "code",
      "source": [
        "class firstCNN_v3(nn.Module):\n",
        "  def __init__(self):\n",
        "    super(firstCNN_v3,self).__init__()\n",
        "    self.model=nn.Sequential(\n",
        "        nn.Conv2d(3,6,5),\n",
        "        nn.AvgPool2d(2,stride=2),\n",
        "        nn.Conv2d(6,16,5),\n",
        "        nn.AvgPool2d(2,stride=2)\n",
        "    )\n",
        "  def forward(self,x):\n",
        "    x=self.model(x)\n",
        "    return x\n"
      ],
      "metadata": {
        "id": "PYRmZ8wpp6Ti"
      },
      "execution_count": null,
      "outputs": []
    },
    {
      "cell_type": "code",
      "source": [
        "net = firstCNN_v3()\n",
        "out=net(images)\n",
        "out.shape"
      ],
      "metadata": {
        "id": "UF9kgrW1tcZE"
      },
      "execution_count": null,
      "outputs": []
    },
    {
      "cell_type": "code",
      "source": [
        ""
      ],
      "metadata": {
        "id": "5sKGVSaEtxMk"
      },
      "execution_count": null,
      "outputs": []
    },
    {
      "cell_type": "markdown",
      "source": [
        "#LeNet"
      ],
      "metadata": {
        "id": "aH-wgK1wtxaX"
      }
    },
    {
      "cell_type": "code",
      "source": [
        "class LeNet(nn.Module):\n",
        "  def __init__(self):\n",
        "    super(LeNet,self).__init__()\n",
        "    self.cnn_model=nn.Sequential(\n",
        "        nn.Conv2d(3,6,5),   #(N,3,32,32) --> (N,6,28,28)\n",
        "        nn.Tanh(),\n",
        "        nn.AvgPool2d(2,stride=2),   #(N,6,28,28) --> (N,6,14,14)\n",
        "        nn.Conv2d(6,16,5),   #(N,6,14,14)--> (N,16,10,10)\n",
        "        nn.Tanh(),\n",
        "        nn.AvgPool2d(2,stride=2)# (N,16,10,10) --> (N,16,5,5)\n",
        "    )\n",
        "    self.fc_model=nn.Sequential(\n",
        "        nn.Linear(400,120),# (N,400) ->(N,120)\n",
        "        nn.Tanh(),\n",
        "        nn.Linear(120,84), #(N,120)  -> (N,84)\n",
        "        nn.Tanh(),\n",
        "        nn.Linear(84,10)  #(N,84) --> (N,10)\n",
        "    )\n",
        "  def forward(self,x):\n",
        "    x=self.cnn_model(x)\n",
        "    x=x.view(x.size(0),-1)\n",
        "    x=self.fc_model(x)\n",
        "    return x"
      ],
      "metadata": {
        "id": "GxsGbsq0tdw2"
      },
      "execution_count": null,
      "outputs": []
    },
    {
      "cell_type": "code",
      "source": [
        "batch_size = 128\n",
        "trainset = torchvision.datasets.CIFAR10(\"./root\",train=True,download=True,transform=transforms.ToTensor())\n",
        "trainloader = torch.utils.data.DataLoader(trainset,batch_size=batch_size,shuffle=True)\n",
        "testset = torchvision.datasets.CIFAR10(\"./root\",train=False,download=True,transform=transforms.ToTensor())\n",
        "testloader = torch.utils.data.DataLoader(testset,batch_size=batch_size,shuffle=True)"
      ],
      "metadata": {
        "id": "vFzaAUIKxFhP"
      },
      "execution_count": null,
      "outputs": []
    },
    {
      "cell_type": "code",
      "source": [
        "def evaluation(dataloader):\n",
        "  total,correct =0,0\n",
        "  for data in dataloader:\n",
        "    inputs,labels=data\n",
        "    output=net(inputs)\n",
        "    _,pred = torch.max(output.data,1)\n",
        "    total+=labels.size(0)\n",
        "    correct+=(pred==labels).sum().item()\n",
        "  return 100*correct/total"
      ],
      "metadata": {
        "id": "7a_AoRzuyxEt"
      },
      "execution_count": null,
      "outputs": []
    },
    {
      "cell_type": "code",
      "source": [
        "net = LeNet()"
      ],
      "metadata": {
        "id": "YZc-slilzjwA"
      },
      "execution_count": null,
      "outputs": []
    },
    {
      "cell_type": "code",
      "source": [
        "import torch.optim as optim\n",
        "loss_fn=nn.CrossEntropyLoss()\n",
        "opt = optim.Adam(net.parameters())\n"
      ],
      "metadata": {
        "id": "GSmcbWnozo1P"
      },
      "execution_count": null,
      "outputs": []
    },
    {
      "cell_type": "code",
      "source": [
        "%%time\n",
        "\n",
        "loss_arr=[]\n",
        "loss_epoch_arr=[]\n",
        "acc_arr=[]\n",
        "epochs = 16\n",
        "for epoch in range(epochs):\n",
        "  for i,data in enumerate(trainloader):\n",
        "    inputs,labels=data\n",
        "    opt.zero_grad()\n",
        "    output=net(inputs)\n",
        "    loss=loss_fn(output,labels)\n",
        "    loss.backward()\n",
        "    opt.step()\n",
        "    loss_arr.append(loss.item())\n",
        "  loss_epoch_arr.append(loss_arr)\n",
        "  print('Epoch:%d/%d ,test acc : %0.2f, train acc : %0.2f' % (epoch, epochs,evaluation(testloader),evaluation(trainloader)))\n",
        "plt.plot(loss_epoch_arr)"
      ],
      "metadata": {
        "id": "ce5LBj3Oz3LC"
      },
      "execution_count": null,
      "outputs": []
    },
    {
      "cell_type": "markdown",
      "source": [
        "#Move to GPU"
      ],
      "metadata": {
        "id": "VMT2vC_g5wlQ"
      }
    },
    {
      "cell_type": "code",
      "source": [
        ""
      ],
      "metadata": {
        "id": "r-E-nS341h5y"
      },
      "execution_count": null,
      "outputs": []
    },
    {
      "cell_type": "markdown",
      "source": [
        "#basic Visualization"
      ],
      "metadata": {
        "id": "000QXCV056gj"
      }
    },
    {
      "cell_type": "code",
      "source": [
        "imshow(torchvision.utils.make_grid(images))"
      ],
      "metadata": {
        "id": "Heikuc_f7FZP"
      },
      "execution_count": null,
      "outputs": []
    },
    {
      "cell_type": "code",
      "source": [
        "out=net(images)\n",
        "out.shape"
      ],
      "metadata": {
        "id": "maZ6Q55B7UhI"
      },
      "execution_count": null,
      "outputs": []
    },
    {
      "cell_type": "code",
      "source": [
        "weights=list(net.parameters())\n",
        "for i in weights:\n",
        "  print(i.shape)"
      ],
      "metadata": {
        "id": "PWes8mE07Xt8"
      },
      "execution_count": null,
      "outputs": []
    },
    {
      "cell_type": "code",
      "source": [
        "plot_cnn_weights(weights[2],16,6)"
      ],
      "metadata": {
        "id": "QxEKLp7g8ELC"
      },
      "execution_count": null,
      "outputs": []
    },
    {
      "cell_type": "markdown",
      "source": [
        "#Deep CNNs\n"
      ],
      "metadata": {
        "id": "SUrmVWppBSZY"
      }
    },
    {
      "cell_type": "code",
      "source": [
        "transform_train = transforms.Compose([\n",
        "                                     transforms.RandomResizedCrop(224),\n",
        "                                     transforms.ToTensor(),\n",
        "                                     transforms.Normalize((.5,.5,.5),(.5,.5,.5))\n",
        "])\n",
        "transform_test= transforms.Compose([\n",
        "                                     transforms.RandomResizedCrop(224),\n",
        "                                     transforms.ToTensor(),\n",
        "                                     transforms.Normalize((.5,.5,.5),(.5,.5,.5))\n",
        "])"
      ],
      "metadata": {
        "id": "jvL7nKBQ98ZM"
      },
      "execution_count": 252,
      "outputs": []
    },
    {
      "cell_type": "code",
      "source": [
        "batch_size = 128\n",
        "trainset = torchvision.datasets.CIFAR10(\"./root\",train=True,download=True,transform=transforms.ToTensor())\n",
        "trainloader = torch.utils.data.DataLoader(trainset,batch_size=batch_size,shuffle=True)\n",
        "testset = torchvision.datasets.CIFAR10(\"./root\",train=False,download=True,transform=transforms.ToTensor())\n",
        "testloader = torch.utils.data.DataLoader(testset,batch_size=batch_size,shuffle=True)"
      ],
      "metadata": {
        "colab": {
          "base_uri": "https://localhost:8080/"
        },
        "id": "8Dv0poVdDJSM",
        "outputId": "b1afae5b-7568-48ca-e78d-66ebe640d691"
      },
      "execution_count": 253,
      "outputs": [
        {
          "output_type": "stream",
          "name": "stdout",
          "text": [
            "Files already downloaded and verified\n",
            "Files already downloaded and verified\n"
          ]
        }
      ]
    },
    {
      "cell_type": "code",
      "source": [
        "num_classes=10"
      ],
      "metadata": {
        "id": "UfTQJiF-DfEl"
      },
      "execution_count": 254,
      "outputs": []
    },
    {
      "cell_type": "code",
      "source": [
        "dataiter = iter(trainloader)\n",
        "images, labels = dataiter.next()"
      ],
      "metadata": {
        "id": "tmGA7HErDiO9"
      },
      "execution_count": 255,
      "outputs": []
    },
    {
      "cell_type": "code",
      "source": [
        ""
      ],
      "metadata": {
        "id": "8Y9SPEDVDyVm"
      },
      "execution_count": null,
      "outputs": []
    }
  ],
  "metadata": {
    "accelerator": "GPU",
    "colab": {
      "collapsed_sections": [],
      "name": "PyTorchRevision.ipynb",
      "provenance": [],
      "mount_file_id": "1HhjkFKpcAWrxjUH-JIXDZ7JB4CKcwIn6",
      "authorship_tag": "ABX9TyOGhiWC368Y05Qe3dmmg2yF",
      "include_colab_link": true
    },
    "kernelspec": {
      "display_name": "Python 3",
      "name": "python3"
    },
    "language_info": {
      "name": "python"
    },
    "gpuClass": "standard"
  },
  "nbformat": 4,
  "nbformat_minor": 0
}